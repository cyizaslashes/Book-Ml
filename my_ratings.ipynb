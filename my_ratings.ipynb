{
 "cells": [
  {
   "cell_type": "code",
   "execution_count": 32,
   "id": "14d5f4f0-ee3c-4125-b006-aef1eb136de0",
   "metadata": {},
   "outputs": [],
   "source": [
    "import pandas as pd\n",
    "\n",
    "# to generate this, click on goodreads \"my books\".  Then click \"print\".  Then set the &per_page=1000 query param\n",
    "books = pd.read_html(\"book_tables.txt\")[0]"
   ]
  },
  {
   "cell_type": "code",
   "execution_count": 33,
   "id": "70bf7f69-f269-45ae-bc91-7b149d764796",
   "metadata": {},
   "outputs": [
    {
     "data": {
      "text/html": [
       "<div>\n",
       "<style scoped>\n",
       "    .dataframe tbody tr th:only-of-type {\n",
       "        vertical-align: middle;\n",
       "    }\n",
       "\n",
       "    .dataframe tbody tr th {\n",
       "        vertical-align: top;\n",
       "    }\n",
       "\n",
       "    .dataframe thead th {\n",
       "        text-align: right;\n",
       "    }\n",
       "</style>\n",
       "<table border=\"1\" class=\"dataframe\">\n",
       "  <thead>\n",
       "    <tr style=\"text-align: right;\">\n",
       "      <th></th>\n",
       "      <th>cover</th>\n",
       "      <th>title</th>\n",
       "      <th>author</th>\n",
       "      <th>avg rating</th>\n",
       "      <th>rating</th>\n",
       "      <th>shelves</th>\n",
       "      <th>date read</th>\n",
       "      <th>date added</th>\n",
       "    </tr>\n",
       "  </thead>\n",
       "  <tbody>\n",
       "    <tr>\n",
       "      <th>0</th>\n",
       "      <td>cover</td>\n",
       "      <td>title The Forever War  (The Forever War, #1)</td>\n",
       "      <td>author Haldeman, Joe</td>\n",
       "      <td>avg rating 4.14</td>\n",
       "      <td>my rating  1 of 5 stars2 of 5 stars3 of 5 star...</td>\n",
       "      <td>shelves  read[edit]</td>\n",
       "      <td>date read  not set  [edit]</td>\n",
       "      <td>date added  Aug 26, 2012</td>\n",
       "    </tr>\n",
       "    <tr>\n",
       "      <th>1</th>\n",
       "      <td>cover</td>\n",
       "      <td>title The Smartest Guys in the Room: The Amazi...</td>\n",
       "      <td>author McLean, Bethany</td>\n",
       "      <td>avg rating 4.20</td>\n",
       "      <td>my rating  1 of 5 stars2 of 5 stars3 of 5 star...</td>\n",
       "      <td>shelves  read[edit]</td>\n",
       "      <td>date read  not set  [edit]</td>\n",
       "      <td>date added  Jul 25, 2019</td>\n",
       "    </tr>\n",
       "    <tr>\n",
       "      <th>2</th>\n",
       "      <td>cover</td>\n",
       "      <td>title Battle Cry of Freedom</td>\n",
       "      <td>author McPherson, James M.</td>\n",
       "      <td>avg rating 4.36</td>\n",
       "      <td>my rating  1 of 5 stars2 of 5 stars3 of 5 star...</td>\n",
       "      <td>shelves  read[edit]</td>\n",
       "      <td>date read  not set  [edit]</td>\n",
       "      <td>date added  Jul 25, 2019</td>\n",
       "    </tr>\n",
       "    <tr>\n",
       "      <th>3</th>\n",
       "      <td>cover</td>\n",
       "      <td>title The Mask of Command</td>\n",
       "      <td>author Keegan, John</td>\n",
       "      <td>avg rating 4.12</td>\n",
       "      <td>my rating  1 of 5 stars2 of 5 stars3 of 5 star...</td>\n",
       "      <td>shelves  read[edit]</td>\n",
       "      <td>date read  not set  [edit]</td>\n",
       "      <td>date added  Jul 25, 2019</td>\n",
       "    </tr>\n",
       "    <tr>\n",
       "      <th>4</th>\n",
       "      <td>cover</td>\n",
       "      <td>title Endurance</td>\n",
       "      <td>author Worsley, Frank A.</td>\n",
       "      <td>avg rating 4.46</td>\n",
       "      <td>my rating  1 of 5 stars2 of 5 stars3 of 5 star...</td>\n",
       "      <td>shelves  read[edit]</td>\n",
       "      <td>date read  not set  [edit]</td>\n",
       "      <td>date added  Oct 25, 2017</td>\n",
       "    </tr>\n",
       "    <tr>\n",
       "      <th>...</th>\n",
       "      <td>...</td>\n",
       "      <td>...</td>\n",
       "      <td>...</td>\n",
       "      <td>...</td>\n",
       "      <td>...</td>\n",
       "      <td>...</td>\n",
       "      <td>...</td>\n",
       "      <td>...</td>\n",
       "    </tr>\n",
       "    <tr>\n",
       "      <th>654</th>\n",
       "      <td>cover</td>\n",
       "      <td>title The Trials of Koli  (Rampart Trilogy #2)</td>\n",
       "      <td>author Carey, M.R.  *</td>\n",
       "      <td>avg rating 4.28</td>\n",
       "      <td>my rating  1 of 5 stars2 of 5 stars3 of 5 star...</td>\n",
       "      <td>shelves  to-read[edit]</td>\n",
       "      <td>date read  not set  [edit]</td>\n",
       "      <td>date added  Jul 12, 2021</td>\n",
       "    </tr>\n",
       "    <tr>\n",
       "      <th>655</th>\n",
       "      <td>cover</td>\n",
       "      <td>title The Fall of Koli  (Rampart Trilogy #3)</td>\n",
       "      <td>author Carey, M.R.  *</td>\n",
       "      <td>avg rating 4.45</td>\n",
       "      <td>my rating  1 of 5 stars2 of 5 stars3 of 5 star...</td>\n",
       "      <td>shelves  to-read[edit]</td>\n",
       "      <td>date read  not set  [edit]</td>\n",
       "      <td>date added  Jul 12, 2021</td>\n",
       "    </tr>\n",
       "    <tr>\n",
       "      <th>656</th>\n",
       "      <td>cover</td>\n",
       "      <td>title Frank Herbert's Dune Saga Collection: Bo...</td>\n",
       "      <td>author Herbert, Frank</td>\n",
       "      <td>avg rating 4.46</td>\n",
       "      <td>my rating  1 of 5 stars2 of 5 stars3 of 5 star...</td>\n",
       "      <td>shelves  to-read[edit]</td>\n",
       "      <td>date read  not set  [edit]</td>\n",
       "      <td>date added  Jul 23, 2021</td>\n",
       "    </tr>\n",
       "    <tr>\n",
       "      <th>657</th>\n",
       "      <td>cover</td>\n",
       "      <td>title Razorblade Tears</td>\n",
       "      <td>author Cosby, S.A.  *</td>\n",
       "      <td>avg rating 4.16</td>\n",
       "      <td>my rating  1 of 5 stars2 of 5 stars3 of 5 star...</td>\n",
       "      <td>shelves  to-read[edit]</td>\n",
       "      <td>date read  not set  [edit]</td>\n",
       "      <td>date added  Jul 10, 2021</td>\n",
       "    </tr>\n",
       "    <tr>\n",
       "      <th>658</th>\n",
       "      <td>cover</td>\n",
       "      <td>title Billy Summers</td>\n",
       "      <td>author King, Stephen  *</td>\n",
       "      <td>avg rating 4.27</td>\n",
       "      <td>my rating  1 of 5 stars2 of 5 stars3 of 5 star...</td>\n",
       "      <td>shelves  to-read[edit]</td>\n",
       "      <td>date read  not set  [edit]</td>\n",
       "      <td>date added  Aug 18, 2021</td>\n",
       "    </tr>\n",
       "  </tbody>\n",
       "</table>\n",
       "<p>659 rows × 8 columns</p>\n",
       "</div>"
      ],
      "text/plain": [
       "     cover                                              title  \\\n",
       "0    cover       title The Forever War  (The Forever War, #1)   \n",
       "1    cover  title The Smartest Guys in the Room: The Amazi...   \n",
       "2    cover                        title Battle Cry of Freedom   \n",
       "3    cover                          title The Mask of Command   \n",
       "4    cover                                    title Endurance   \n",
       "..     ...                                                ...   \n",
       "654  cover     title The Trials of Koli  (Rampart Trilogy #2)   \n",
       "655  cover       title The Fall of Koli  (Rampart Trilogy #3)   \n",
       "656  cover  title Frank Herbert's Dune Saga Collection: Bo...   \n",
       "657  cover                             title Razorblade Tears   \n",
       "658  cover                                title Billy Summers   \n",
       "\n",
       "                         author       avg rating  \\\n",
       "0          author Haldeman, Joe  avg rating 4.14   \n",
       "1        author McLean, Bethany  avg rating 4.20   \n",
       "2    author McPherson, James M.  avg rating 4.36   \n",
       "3           author Keegan, John  avg rating 4.12   \n",
       "4      author Worsley, Frank A.  avg rating 4.46   \n",
       "..                          ...              ...   \n",
       "654       author Carey, M.R.  *  avg rating 4.28   \n",
       "655       author Carey, M.R.  *  avg rating 4.45   \n",
       "656       author Herbert, Frank  avg rating 4.46   \n",
       "657       author Cosby, S.A.  *  avg rating 4.16   \n",
       "658     author King, Stephen  *  avg rating 4.27   \n",
       "\n",
       "                                                rating  \\\n",
       "0    my rating  1 of 5 stars2 of 5 stars3 of 5 star...   \n",
       "1    my rating  1 of 5 stars2 of 5 stars3 of 5 star...   \n",
       "2    my rating  1 of 5 stars2 of 5 stars3 of 5 star...   \n",
       "3    my rating  1 of 5 stars2 of 5 stars3 of 5 star...   \n",
       "4    my rating  1 of 5 stars2 of 5 stars3 of 5 star...   \n",
       "..                                                 ...   \n",
       "654  my rating  1 of 5 stars2 of 5 stars3 of 5 star...   \n",
       "655  my rating  1 of 5 stars2 of 5 stars3 of 5 star...   \n",
       "656  my rating  1 of 5 stars2 of 5 stars3 of 5 star...   \n",
       "657  my rating  1 of 5 stars2 of 5 stars3 of 5 star...   \n",
       "658  my rating  1 of 5 stars2 of 5 stars3 of 5 star...   \n",
       "\n",
       "                    shelves                   date read  \\\n",
       "0       shelves  read[edit]  date read  not set  [edit]   \n",
       "1       shelves  read[edit]  date read  not set  [edit]   \n",
       "2       shelves  read[edit]  date read  not set  [edit]   \n",
       "3       shelves  read[edit]  date read  not set  [edit]   \n",
       "4       shelves  read[edit]  date read  not set  [edit]   \n",
       "..                      ...                         ...   \n",
       "654  shelves  to-read[edit]  date read  not set  [edit]   \n",
       "655  shelves  to-read[edit]  date read  not set  [edit]   \n",
       "656  shelves  to-read[edit]  date read  not set  [edit]   \n",
       "657  shelves  to-read[edit]  date read  not set  [edit]   \n",
       "658  shelves  to-read[edit]  date read  not set  [edit]   \n",
       "\n",
       "                   date added  \n",
       "0    date added  Aug 26, 2012  \n",
       "1    date added  Jul 25, 2019  \n",
       "2    date added  Jul 25, 2019  \n",
       "3    date added  Jul 25, 2019  \n",
       "4    date added  Oct 25, 2017  \n",
       "..                        ...  \n",
       "654  date added  Jul 12, 2021  \n",
       "655  date added  Jul 12, 2021  \n",
       "656  date added  Jul 23, 2021  \n",
       "657  date added  Jul 10, 2021  \n",
       "658  date added  Aug 18, 2021  \n",
       "\n",
       "[659 rows x 8 columns]"
      ]
     },
     "execution_count": 33,
     "metadata": {},
     "output_type": "execute_result"
    }
   ],
   "source": [
    "books"
   ]
  },
  {
   "cell_type": "code",
   "execution_count": 34,
   "id": "8e26b432-0b28-4558-bea9-9c98b95e39a8",
   "metadata": {},
   "outputs": [],
   "source": [
    "books[\"title\"] = books[\"title\"].str.replace(\"title \", \"\")"
   ]
  },
  {
   "cell_type": "code",
   "execution_count": 35,
   "id": "c63d874a-4d8b-4724-9b83-42bdc1597a9b",
   "metadata": {},
   "outputs": [
    {
     "data": {
      "text/plain": [
       "'my rating  1 of 5 stars2 of 5 stars3 of 5 stars4 of 5 stars[ 5 of 5 stars ]'"
      ]
     },
     "execution_count": 35,
     "metadata": {},
     "output_type": "execute_result"
    }
   ],
   "source": [
    "books.loc[0][\"rating\"]"
   ]
  },
  {
   "cell_type": "code",
   "execution_count": 36,
   "id": "26578c98-df63-4cec-ba09-1dbb5684818e",
   "metadata": {},
   "outputs": [],
   "source": [
    "ratings_string = books[\"rating\"].str.extract(\"(\\[.+\\])\")"
   ]
  },
  {
   "cell_type": "code",
   "execution_count": 37,
   "id": "d27a622d-85a8-45ad-b767-7649cafe1c39",
   "metadata": {},
   "outputs": [],
   "source": [
    "books[\"rating\"] = ratings_string[0].str.slice(start=2, stop=3)"
   ]
  },
  {
   "cell_type": "code",
   "execution_count": 38,
   "id": "08b56759-c383-4cf5-b844-db8e0b3b2fad",
   "metadata": {},
   "outputs": [],
   "source": [
    "books = books[[\"title\", \"rating\"]]"
   ]
  },
  {
   "cell_type": "code",
   "execution_count": 39,
   "id": "a01d38e9-0646-4b04-9f6e-deee0ec0b3cc",
   "metadata": {},
   "outputs": [],
   "source": [
    "titles = pd.read_json(\"books_titles.json\")\n",
    "titles[\"book_id\"] = titles[\"book_id\"].astype(str)"
   ]
  },
  {
   "cell_type": "code",
   "execution_count": 40,
   "id": "9d24e218-e945-4388-b5a1-1c9e6a4d1518",
   "metadata": {},
   "outputs": [],
   "source": [
    "from sklearn.feature_extraction.text import TfidfVectorizer\n",
    "vectorizer = TfidfVectorizer()\n",
    "\n",
    "tfidf = vectorizer.fit_transform(titles[\"mod_title\"])"
   ]
  },
  {
   "cell_type": "code",
   "execution_count": 41,
   "id": "6e3bbb17-be9e-4d5c-a6b4-6895ae07ddc8",
   "metadata": {},
   "outputs": [],
   "source": [
    "import re\n",
    "from sklearn.metrics.pairwise import cosine_similarity\n",
    "import numpy as np\n",
    "\n",
    "def search(query,vectorizer):\n",
    "    processed = re.sub(\"[^a-zA-Z0-9 ]\", \"\", query.lower())\n",
    "    query_vec = vectorizer.transform([query])\n",
    "    similarity = cosine_similarity(query_vec, tfidf).flatten()\n",
    "    indices = np.argpartition(similarity, -10)[-10:]\n",
    "    results = titles.iloc[indices]\n",
    "    results = results.sort_values(\"ratings\", ascending=False)\n",
    "    \n",
    "    return results.iloc[0,:][\"book_id\"]"
   ]
  },
  {
   "cell_type": "code",
   "execution_count": 42,
   "id": "93ab76e1-deb0-4e03-b699-fcef556d16e6",
   "metadata": {},
   "outputs": [
    {
     "name": "stderr",
     "output_type": "stream",
     "text": [
      "/var/folders/xz/9z84c__j28g8tg28bmcthjj00000gn/T/ipykernel_34151/4009849999.py:1: SettingWithCopyWarning: \n",
      "A value is trying to be set on a copy of a slice from a DataFrame.\n",
      "Try using .loc[row_indexer,col_indexer] = value instead\n",
      "\n",
      "See the caveats in the documentation: https://pandas.pydata.org/pandas-docs/stable/user_guide/indexing.html#returning-a-view-versus-a-copy\n",
      "  books[\"book_id\"] = books[\"title\"].apply(lambda x: search(x, vectorizer))\n"
     ]
    }
   ],
   "source": [
    "books[\"book_id\"] = books[\"title\"].apply(lambda x: search(x, vectorizer))"
   ]
  },
  {
   "cell_type": "code",
   "execution_count": 43,
   "id": "a05b764f-185d-43f9-b62b-4b1fb02ba6cc",
   "metadata": {},
   "outputs": [
    {
     "name": "stderr",
     "output_type": "stream",
     "text": [
      "/var/folders/xz/9z84c__j28g8tg28bmcthjj00000gn/T/ipykernel_34151/4141060674.py:1: SettingWithCopyWarning: \n",
      "A value is trying to be set on a copy of a slice from a DataFrame.\n",
      "Try using .loc[row_indexer,col_indexer] = value instead\n",
      "\n",
      "See the caveats in the documentation: https://pandas.pydata.org/pandas-docs/stable/user_guide/indexing.html#returning-a-view-versus-a-copy\n",
      "  books[\"user_id\"] = \"-1\"\n"
     ]
    }
   ],
   "source": [
    "books[\"user_id\"] = \"-1\""
   ]
  },
  {
   "cell_type": "code",
   "execution_count": 44,
   "id": "1d59cdf0-539c-43de-838e-99f3bfaadeae",
   "metadata": {},
   "outputs": [],
   "source": [
    "books = books[[\"user_id\", \"book_id\", \"rating\", \"title\"]]"
   ]
  },
  {
   "cell_type": "code",
   "execution_count": 45,
   "id": "f5ba1d33-071f-4740-8cbb-cc91331192c9",
   "metadata": {},
   "outputs": [],
   "source": [
    "books = books[~pd.isnull(books[\"rating\"])]"
   ]
  },
  {
   "cell_type": "code",
   "execution_count": 46,
   "id": "36517259-3f47-445d-bdc1-edd35b5dd1da",
   "metadata": {},
   "outputs": [],
   "source": [
    "books.to_csv(\"my_books.csv\")"
   ]
  }
 ],
 "metadata": {
  "kernelspec": {
   "display_name": "Python 3 (ipykernel)",
   "language": "python",
   "name": "python3"
  },
  "language_info": {
   "codemirror_mode": {
    "name": "ipython",
    "version": 3
   },
   "file_extension": ".py",
   "mimetype": "text/x-python",
   "name": "python",
   "nbconvert_exporter": "python",
   "pygments_lexer": "ipython3",
   "version": "3.9.7"
  }
 },
 "nbformat": 4,
 "nbformat_minor": 5
}
